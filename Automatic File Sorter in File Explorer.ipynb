{
 "cells": [
  {
   "cell_type": "markdown",
   "id": "914992ba-5021-443e-935d-911398589bbf",
   "metadata": {},
   "source": [
    "# Automatic File Sorter in File Explorer"
   ]
  },
  {
   "cell_type": "code",
   "execution_count": 52,
   "id": "0bc75280-6a2b-4f14-b005-72c4ac643eb7",
   "metadata": {},
   "outputs": [],
   "source": [
    "import os, shutil"
   ]
  },
  {
   "cell_type": "code",
   "execution_count": 54,
   "id": "dc4e805c-c489-494d-864b-de4fa2a99108",
   "metadata": {},
   "outputs": [],
   "source": [
    "path = r\"/Users/Buddy2/Documents/Python/\""
   ]
  },
  {
   "cell_type": "code",
   "execution_count": null,
   "id": "5ed48fcd-6ad6-469d-8d03-386cddcd976a",
   "metadata": {},
   "outputs": [],
   "source": [
    "# We will create a folder, check each file individually, identify the file type and sort it into the correct folder"
   ]
  },
  {
   "cell_type": "code",
   "execution_count": 56,
   "id": "917acce6-123a-4523-8a64-807ec1e45989",
   "metadata": {},
   "outputs": [],
   "source": [
    "#Shows us all the files in the path \n",
    "\n",
    "file_name = os.listdir(path)"
   ]
  },
  {
   "cell_type": "code",
   "execution_count": 62,
   "id": "55cfcdd6-2692-49ce-bf68-a32305287929",
   "metadata": {},
   "outputs": [
    {
     "data": {
      "text/plain": [
       "True"
      ]
     },
     "execution_count": 62,
     "metadata": {},
     "output_type": "execute_result"
    }
   ],
   "source": [
    "#Check if the path exists already \n",
    "\n",
    "os.path.exists(path + 'csv files')   "
   ]
  },
  {
   "cell_type": "code",
   "execution_count": 60,
   "id": "4061470b-f50b-4df5-8c6c-72d6ac042765",
   "metadata": {},
   "outputs": [
    {
     "name": "stdout",
     "output_type": "stream",
     "text": [
      "/Users/Buddy2/Documents/Python/csv files\n",
      "/Users/Buddy2/Documents/Python/image files\n",
      "/Users/Buddy2/Documents/Python/text files\n"
     ]
    }
   ],
   "source": [
    "#To add in folders \n",
    "\n",
    "folder_names = ['csv files', 'image files', 'text files']\n",
    "\n",
    "for loop in range(0,3):\n",
    "    if not os.path.exists(path + folder_names[loop]):\n",
    "        print(path + folder_names[loop])\n",
    "        os.makedirs((path + folder_names[loop]))\n",
    "        \n",
    "#now we need to read the files and check to see which folder they go into \n",
    "\n",
    "for file in file_name:\n",
    "    if \".csv\" in file and not os.path.exists(path + \"csv files/\" + file):\n",
    "        shutil.move(path + file, path + \"csv files/\" + file)\n",
    "    elif \".jpeg\" in file and not os.path.exists(path + \"image files/\" + file):\n",
    "        shutil.move(path + file, path + \"image files/\" + file)\n",
    "    elif \".txt\" in file and not os.path.exists(path + \"text files/\" + file):\n",
    "        shutil.move(path + file, path + \"text files/\" + file)\n",
    "\n",
    "       "
   ]
  }
 ],
 "metadata": {
  "kernelspec": {
   "display_name": "Python 3 (ipykernel)",
   "language": "python",
   "name": "python3"
  },
  "language_info": {
   "codemirror_mode": {
    "name": "ipython",
    "version": 3
   },
   "file_extension": ".py",
   "mimetype": "text/x-python",
   "name": "python",
   "nbconvert_exporter": "python",
   "pygments_lexer": "ipython3",
   "version": "3.12.4"
  }
 },
 "nbformat": 4,
 "nbformat_minor": 5
}
